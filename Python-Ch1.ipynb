{
  "nbformat": 4,
  "nbformat_minor": 0,
  "metadata": {
    "colab": {
      "provenance": [],
      "authorship_tag": "ABX9TyMu1cDPxyh87fxN6gIPHgVI",
      "include_colab_link": true
    },
    "kernelspec": {
      "name": "python3",
      "display_name": "Python 3"
    },
    "language_info": {
      "name": "python"
    }
  },
  "cells": [
    {
      "cell_type": "markdown",
      "metadata": {
        "id": "view-in-github",
        "colab_type": "text"
      },
      "source": [
        "<a href=\"https://colab.research.google.com/github/PerfectMach1ne/python-powerbi-etc-notes-23-24/blob/main/Python-Ch1.ipynb\" target=\"_parent\"><img src=\"https://colab.research.google.com/assets/colab-badge.svg\" alt=\"Open In Colab\"/></a>"
      ]
    },
    {
      "cell_type": "markdown",
      "source": [
        "# Python notebook\n",
        "## (maybe Power BI also. tis' all chaotic loose notes)"
      ],
      "metadata": {
        "id": "w7q26gDDM-uj"
      }
    },
    {
      "cell_type": "code",
      "execution_count": 2,
      "metadata": {
        "colab": {
          "base_uri": "https://localhost:8080/"
        },
        "id": "vlS-y3JMKRqd",
        "outputId": "919a6a75-45d0-4165-9007-dda286689a57"
      },
      "outputs": [
        {
          "output_type": "stream",
          "name": "stdout",
          "text": [
            "35\n",
            "test\n"
          ]
        }
      ],
      "source": [
        "print(5*7)\n",
        "print(\"test\")"
      ]
    },
    {
      "cell_type": "markdown",
      "source": [
        "Special method names in Python are **always** spelled with **leading and trailing underscores**, i.e. `__getitem__`\n",
        "\n",
        "E.g. syntax `obj[key]` is supported by `__getitem__` special method, so to evaluate `my_collection[key]` the interpreter calls `my_collection.__getitem__(key)`."
      ],
      "metadata": {
        "id": "7-Mc4qsWRJ5p"
      }
    },
    {
      "cell_type": "markdown",
      "source": [
        "## Some example of implementing `__getitem__` and `__len__`"
      ],
      "metadata": {
        "id": "0LEkU_vdSF3h"
      }
    },
    {
      "cell_type": "code",
      "source": [
        "import collections\n",
        "\n",
        "# take note of that - this is a beautiful data structure honestly.\n",
        "Card = collections.namedtuple('Card', ['rank', 'suit'])\n",
        "\n",
        "class FrenchDeck:\n",
        "  ranks = [str(n) for n in range(2,11)] + list('JQKA')\n",
        "  suits = 'spades diamonds clubs hearts'.split()\n",
        "\n",
        "  def __init__(self):\n",
        "    # uses previously defined collections.namedtuple of a Card; for pretty labels :3\n",
        "    self._cards = [Card(rank, suit) for suit in self.suits\n",
        "                                    for rank in self.ranks]\n",
        "                                    # ooh this is clever\n",
        "\n",
        "  def __len__(self):\n",
        "    return len(self._cards)  # return how many cards there r basically\n",
        "\n",
        "  def __getitem__(self, position):\n",
        "    return self._cards[position]  # returns a card, right?"
      ],
      "metadata": {
        "id": "sPjLt9kySJmB"
      },
      "execution_count": 5,
      "outputs": []
    },
    {
      "cell_type": "code",
      "source": [
        "deck = FrenchDeck()\n",
        "print(len(deck))\n",
        "print(deck.__getitem__(13))\n",
        "print(deck.__getitem__(31))\n",
        "print(deck.__getitem__(51)) # errors at 52, implying how it's indexed\n",
        "print(deck.__getitem__(0))\n",
        "gay_card = Card('57', 'moonrock')\n",
        "print(gay_card)\n",
        "print(deck[0] + deck[-1])\n",
        "# less picc a random card :3\n",
        "from random import choice\n",
        "choice(deck)"
      ],
      "metadata": {
        "colab": {
          "base_uri": "https://localhost:8080/"
        },
        "id": "l55jwlWbTBGA",
        "outputId": "d5ca80ae-7293-4bd0-e08f-3fd28db8bfbf"
      },
      "execution_count": 18,
      "outputs": [
        {
          "output_type": "stream",
          "name": "stdout",
          "text": [
            "52\n",
            "Card(rank='2', suit='diamonds')\n",
            "Card(rank='7', suit='clubs')\n",
            "Card(rank='A', suit='hearts')\n",
            "Card(rank='2', suit='spades')\n",
            "Card(rank='57', suit='moonrock')\n",
            "('2', 'spades', 'A', 'hearts')\n"
          ]
        },
        {
          "output_type": "execute_result",
          "data": {
            "text/plain": [
              "Card(rank='Q', suit='spades')"
            ]
          },
          "metadata": {},
          "execution_count": 18
        }
      ]
    },
    {
      "cell_type": "markdown",
      "source": [
        "\"*We’ve just seen two advantages of using special methods to leverage the Python Data Model:*\n",
        "1. *The users of your classes don’t have to memorize arbitrary method names for stan‐\n",
        "dard operations (“How to get the number of items? Is it .size() .length() or what?”)*\n",
        "2. *It’s easier to benefit from the rich Python standard library and avoid reinventing\n",
        "the wheel, like the random.choice function.*\""
      ],
      "metadata": {
        "id": "BuaJDbXfUhLB"
      }
    }
  ]
}