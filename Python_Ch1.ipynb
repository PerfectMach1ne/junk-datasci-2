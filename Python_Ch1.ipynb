{
  "nbformat": 4,
  "nbformat_minor": 0,
  "metadata": {
    "colab": {
      "provenance": [],
      "authorship_tag": "ABX9TyNQzwnFWuHipJw6C9OA7L30",
      "include_colab_link": true
    },
    "kernelspec": {
      "name": "python3",
      "display_name": "Python 3"
    },
    "language_info": {
      "name": "python"
    }
  },
  "cells": [
    {
      "cell_type": "markdown",
      "metadata": {
        "id": "view-in-github",
        "colab_type": "text"
      },
      "source": [
        "<a href=\"https://colab.research.google.com/github/PerfectMach1ne/python-powerbi-etc-notes-23-24/blob/main/Python_Ch1.ipynb\" target=\"_parent\"><img src=\"https://colab.research.google.com/assets/colab-badge.svg\" alt=\"Open In Colab\"/></a>"
      ]
    },
    {
      "cell_type": "markdown",
      "source": [
        "# Python notebook\n",
        "## (maybe Power BI also. tis' all chaotic loose notes)"
      ],
      "metadata": {
        "id": "w7q26gDDM-uj"
      }
    },
    {
      "cell_type": "code",
      "execution_count": null,
      "metadata": {
        "colab": {
          "base_uri": "https://localhost:8080/"
        },
        "id": "vlS-y3JMKRqd",
        "outputId": "919a6a75-45d0-4165-9007-dda286689a57"
      },
      "outputs": [
        {
          "output_type": "stream",
          "name": "stdout",
          "text": [
            "35\n",
            "test\n"
          ]
        }
      ],
      "source": [
        "print(5*7)\n",
        "print(\"test\")"
      ]
    },
    {
      "cell_type": "markdown",
      "source": [
        "Special method names in Python are **always** spelled with **leading and trailing underscores**, i.e. `__getitem__`\n",
        "\n",
        "E.g. syntax `obj[key]` is supported by `__getitem__` special method, so to evaluate `my_collection[key]` the interpreter calls `my_collection.__getitem__(key)`."
      ],
      "metadata": {
        "id": "7-Mc4qsWRJ5p"
      }
    },
    {
      "cell_type": "markdown",
      "source": [
        "## Some example of implementing `__getitem__` and `__len__`"
      ],
      "metadata": {
        "id": "0LEkU_vdSF3h"
      }
    },
    {
      "cell_type": "code",
      "source": [
        "import collections\n",
        "\n",
        "# take note of that - this is a beautiful data structure honestly.\n",
        "Card = collections.namedtuple('Card', ['rank', 'suit'])\n",
        "\n",
        "class FrenchDeck:\n",
        "  ranks = [str(n) for n in range(2,11)] + list('JQKA')\n",
        "  suits = 'spades diamonds clubs hearts'.split()\n",
        "\n",
        "  def __init__(self):\n",
        "    # uses previously defined collections.namedtuple of a Card; for pretty labels :3\n",
        "    self._cards = [Card(rank, suit) for suit in self.suits\n",
        "                                    for rank in self.ranks]\n",
        "                                    # ooh this is clever\n",
        "\n",
        "  def __len__(self):\n",
        "    return len(self._cards)  # return how many cards there r basically\n",
        "\n",
        "  def __getitem__(self, position):\n",
        "    return self._cards[position]  # returns a card, right?"
      ],
      "metadata": {
        "id": "sPjLt9kySJmB"
      },
      "execution_count": 1,
      "outputs": []
    },
    {
      "cell_type": "code",
      "source": [
        "deck = FrenchDeck()\n",
        "print(len(deck))\n",
        "print(deck.__getitem__(13))\n",
        "print(deck.__getitem__(31))\n",
        "print(deck.__getitem__(51)) # errors at 52, implying how it's indexed\n",
        "print(deck.__getitem__(0))\n",
        "gay_card = Card('57', 'moonrock')\n",
        "print(gay_card)\n",
        "print(deck[0] + deck[-1])\n",
        "# less picc a random card :3\n",
        "from random import choice\n",
        "choice(deck)"
      ],
      "metadata": {
        "colab": {
          "base_uri": "https://localhost:8080/"
        },
        "id": "l55jwlWbTBGA",
        "outputId": "b90bcd99-b010-429e-bee7-61002a5c94a6"
      },
      "execution_count": 2,
      "outputs": [
        {
          "output_type": "stream",
          "name": "stdout",
          "text": [
            "52\n",
            "Card(rank='2', suit='diamonds')\n",
            "Card(rank='7', suit='clubs')\n",
            "Card(rank='A', suit='hearts')\n",
            "Card(rank='2', suit='spades')\n",
            "Card(rank='57', suit='moonrock')\n",
            "('2', 'spades', 'A', 'hearts')\n"
          ]
        },
        {
          "output_type": "execute_result",
          "data": {
            "text/plain": [
              "Card(rank='10', suit='spades')"
            ]
          },
          "metadata": {},
          "execution_count": 2
        }
      ]
    },
    {
      "cell_type": "markdown",
      "source": [
        "\"*We’ve just seen two advantages of using special methods to leverage the Python Data Model:*\n",
        "\n",
        "1. *The users of your classes don’t have to memorize arbitrary method names for stan‐\n",
        "dard operations (“How to get the number of items? Is it .size() .length() or what?”)*\n",
        "\n",
        "2. *It’s easier to benefit from the rich Python standard library and avoid reinventing\n",
        "the wheel, like the random.choice function.*\""
      ],
      "metadata": {
        "id": "BuaJDbXfUhLB"
      }
    },
    {
      "cell_type": "code",
      "source": [
        "print(deck.__getitem__(0))\n",
        "# print(deck.getitem(0))\n",
        "print(deck[:3]) # look at top three cards from the deck!\n",
        "print(deck[12::13])\n",
        "# pick just the aces by starting at index 12 and skipping 13 cards at the time\n",
        "for card in deck: # iterable thanks to implementation of __getitem__\n",
        "  print(card)\n",
        "for card in reversed(deck): # iterable in reverse!\n",
        "  print(card)"
      ],
      "metadata": {
        "colab": {
          "base_uri": "https://localhost:8080/"
        },
        "id": "4KjoGSeIbwHV",
        "outputId": "c46965cf-d0c4-49b2-dec8-c532483c1f23"
      },
      "execution_count": 8,
      "outputs": [
        {
          "output_type": "stream",
          "name": "stdout",
          "text": [
            "Card(rank='2', suit='spades')\n",
            "[Card(rank='2', suit='spades'), Card(rank='3', suit='spades'), Card(rank='4', suit='spades')]\n",
            "[Card(rank='A', suit='spades'), Card(rank='A', suit='diamonds'), Card(rank='A', suit='clubs'), Card(rank='A', suit='hearts')]\n",
            "Card(rank='2', suit='spades')\n",
            "Card(rank='3', suit='spades')\n",
            "Card(rank='4', suit='spades')\n",
            "Card(rank='5', suit='spades')\n",
            "Card(rank='6', suit='spades')\n",
            "Card(rank='7', suit='spades')\n",
            "Card(rank='8', suit='spades')\n",
            "Card(rank='9', suit='spades')\n",
            "Card(rank='10', suit='spades')\n",
            "Card(rank='J', suit='spades')\n",
            "Card(rank='Q', suit='spades')\n",
            "Card(rank='K', suit='spades')\n",
            "Card(rank='A', suit='spades')\n",
            "Card(rank='2', suit='diamonds')\n",
            "Card(rank='3', suit='diamonds')\n",
            "Card(rank='4', suit='diamonds')\n",
            "Card(rank='5', suit='diamonds')\n",
            "Card(rank='6', suit='diamonds')\n",
            "Card(rank='7', suit='diamonds')\n",
            "Card(rank='8', suit='diamonds')\n",
            "Card(rank='9', suit='diamonds')\n",
            "Card(rank='10', suit='diamonds')\n",
            "Card(rank='J', suit='diamonds')\n",
            "Card(rank='Q', suit='diamonds')\n",
            "Card(rank='K', suit='diamonds')\n",
            "Card(rank='A', suit='diamonds')\n",
            "Card(rank='2', suit='clubs')\n",
            "Card(rank='3', suit='clubs')\n",
            "Card(rank='4', suit='clubs')\n",
            "Card(rank='5', suit='clubs')\n",
            "Card(rank='6', suit='clubs')\n",
            "Card(rank='7', suit='clubs')\n",
            "Card(rank='8', suit='clubs')\n",
            "Card(rank='9', suit='clubs')\n",
            "Card(rank='10', suit='clubs')\n",
            "Card(rank='J', suit='clubs')\n",
            "Card(rank='Q', suit='clubs')\n",
            "Card(rank='K', suit='clubs')\n",
            "Card(rank='A', suit='clubs')\n",
            "Card(rank='2', suit='hearts')\n",
            "Card(rank='3', suit='hearts')\n",
            "Card(rank='4', suit='hearts')\n",
            "Card(rank='5', suit='hearts')\n",
            "Card(rank='6', suit='hearts')\n",
            "Card(rank='7', suit='hearts')\n",
            "Card(rank='8', suit='hearts')\n",
            "Card(rank='9', suit='hearts')\n",
            "Card(rank='10', suit='hearts')\n",
            "Card(rank='J', suit='hearts')\n",
            "Card(rank='Q', suit='hearts')\n",
            "Card(rank='K', suit='hearts')\n",
            "Card(rank='A', suit='hearts')\n",
            "Card(rank='A', suit='hearts')\n",
            "Card(rank='K', suit='hearts')\n",
            "Card(rank='Q', suit='hearts')\n",
            "Card(rank='J', suit='hearts')\n",
            "Card(rank='10', suit='hearts')\n",
            "Card(rank='9', suit='hearts')\n",
            "Card(rank='8', suit='hearts')\n",
            "Card(rank='7', suit='hearts')\n",
            "Card(rank='6', suit='hearts')\n",
            "Card(rank='5', suit='hearts')\n",
            "Card(rank='4', suit='hearts')\n",
            "Card(rank='3', suit='hearts')\n",
            "Card(rank='2', suit='hearts')\n",
            "Card(rank='A', suit='clubs')\n",
            "Card(rank='K', suit='clubs')\n",
            "Card(rank='Q', suit='clubs')\n",
            "Card(rank='J', suit='clubs')\n",
            "Card(rank='10', suit='clubs')\n",
            "Card(rank='9', suit='clubs')\n",
            "Card(rank='8', suit='clubs')\n",
            "Card(rank='7', suit='clubs')\n",
            "Card(rank='6', suit='clubs')\n",
            "Card(rank='5', suit='clubs')\n",
            "Card(rank='4', suit='clubs')\n",
            "Card(rank='3', suit='clubs')\n",
            "Card(rank='2', suit='clubs')\n",
            "Card(rank='A', suit='diamonds')\n",
            "Card(rank='K', suit='diamonds')\n",
            "Card(rank='Q', suit='diamonds')\n",
            "Card(rank='J', suit='diamonds')\n",
            "Card(rank='10', suit='diamonds')\n",
            "Card(rank='9', suit='diamonds')\n",
            "Card(rank='8', suit='diamonds')\n",
            "Card(rank='7', suit='diamonds')\n",
            "Card(rank='6', suit='diamonds')\n",
            "Card(rank='5', suit='diamonds')\n",
            "Card(rank='4', suit='diamonds')\n",
            "Card(rank='3', suit='diamonds')\n",
            "Card(rank='2', suit='diamonds')\n",
            "Card(rank='A', suit='spades')\n",
            "Card(rank='K', suit='spades')\n",
            "Card(rank='Q', suit='spades')\n",
            "Card(rank='J', suit='spades')\n",
            "Card(rank='10', suit='spades')\n",
            "Card(rank='9', suit='spades')\n",
            "Card(rank='8', suit='spades')\n",
            "Card(rank='7', suit='spades')\n",
            "Card(rank='6', suit='spades')\n",
            "Card(rank='5', suit='spades')\n",
            "Card(rank='4', suit='spades')\n",
            "Card(rank='3', suit='spades')\n",
            "Card(rank='2', suit='spades')\n"
          ]
        }
      ]
    },
    {
      "cell_type": "markdown",
      "source": [
        "### The `in`"
      ],
      "metadata": {
        "id": "4e3EipK6bcnC"
      }
    },
    {
      "cell_type": "code",
      "source": [
        "print(Card('Q', 'hearts') in deck)\n",
        "print(Card('7', 'beasts') in deck)\n",
        "print(Card('57', 'hearts') in deck)"
      ],
      "metadata": {
        "colab": {
          "base_uri": "https://localhost:8080/"
        },
        "id": "vmPSeTAYdixm",
        "outputId": "e09651d9-655e-449f-e3cd-7324a9351140"
      },
      "execution_count": 9,
      "outputs": [
        {
          "output_type": "stream",
          "name": "stdout",
          "text": [
            "True\n",
            "False\n",
            "False\n"
          ]
        }
      ]
    },
    {
      "cell_type": "markdown",
      "source": [
        "### Sorting!\n",
        "\n",
        "*\"A common system of ranking cards is by rank (with aces being highest), then by suit in the order: spades (highest), then hearts, diamonds and clubs (lowest). Here is a function that ranks cards by that rule, returning 0 for the 2 of clubs and 51 for the ace of spades:\"*"
      ],
      "metadata": {
        "id": "Tk4bFe5Rd1tl"
      }
    },
    {
      "cell_type": "code",
      "source": [],
      "metadata": {
        "id": "WGnX2txCd1V1"
      },
      "execution_count": null,
      "outputs": []
    }
  ]
}